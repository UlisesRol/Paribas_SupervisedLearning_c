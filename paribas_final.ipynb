{
 "cells": [
  {
   "cell_type": "code",
   "execution_count": 1,
   "metadata": {
    "collapsed": true
   },
   "outputs": [],
   "source": [
    "import pandas as pd\n",
    "import numpy as np\n",
    "import pylab as plt\n",
    "%matplotlib inline"
   ]
  },
  {
   "cell_type": "code",
   "execution_count": 2,
   "metadata": {
    "collapsed": true
   },
   "outputs": [],
   "source": [
    "path= r'/home/ulises/Documentos/Paribas/inputs/'\n",
    "import scandir\n",
    "\n",
    "#funcion para convertir todos los imputs csv en dataframes\n",
    "def archivos(carpeta):\n",
    "        archivos=[]\n",
    "        for i in scandir.scandir(carpeta):\n",
    "            a=str(i).replace(\"<DirEntry '\"  ,'/')\n",
    "            b=a.replace(\"'>\",'')\n",
    "            c=str(carpeta)+b\n",
    "            archivos.append(c)\n",
    "            archivos.sort()\n",
    "        dfs=[]\n",
    "        for i in archivos:\n",
    "            df=pd.read_csv(i)\n",
    "            dfs.append(df)\n",
    "        return dfs"
   ]
  },
  {
   "cell_type": "code",
   "execution_count": 3,
   "metadata": {
    "collapsed": true
   },
   "outputs": [],
   "source": [
    "df_sample,df_test,df_train=archivos(path)"
   ]
  },
  {
   "cell_type": "code",
   "execution_count": 4,
   "metadata": {},
   "outputs": [
    {
     "data": {
      "text/html": [
       "<div>\n",
       "<style>\n",
       "    .dataframe thead tr:only-child th {\n",
       "        text-align: right;\n",
       "    }\n",
       "\n",
       "    .dataframe thead th {\n",
       "        text-align: left;\n",
       "    }\n",
       "\n",
       "    .dataframe tbody tr th {\n",
       "        vertical-align: top;\n",
       "    }\n",
       "</style>\n",
       "<table border=\"1\" class=\"dataframe\">\n",
       "  <thead>\n",
       "    <tr style=\"text-align: right;\">\n",
       "      <th></th>\n",
       "      <th>ID</th>\n",
       "      <th>target</th>\n",
       "      <th>v1</th>\n",
       "      <th>v2</th>\n",
       "      <th>v3</th>\n",
       "      <th>v4</th>\n",
       "      <th>v5</th>\n",
       "      <th>v6</th>\n",
       "      <th>v7</th>\n",
       "      <th>v8</th>\n",
       "      <th>...</th>\n",
       "      <th>v122</th>\n",
       "      <th>v123</th>\n",
       "      <th>v124</th>\n",
       "      <th>v125</th>\n",
       "      <th>v126</th>\n",
       "      <th>v127</th>\n",
       "      <th>v128</th>\n",
       "      <th>v129</th>\n",
       "      <th>v130</th>\n",
       "      <th>v131</th>\n",
       "    </tr>\n",
       "  </thead>\n",
       "  <tbody>\n",
       "    <tr>\n",
       "      <th>0</th>\n",
       "      <td>3</td>\n",
       "      <td>1</td>\n",
       "      <td>1.335739</td>\n",
       "      <td>8.727474</td>\n",
       "      <td>C</td>\n",
       "      <td>3.921026</td>\n",
       "      <td>7.915266</td>\n",
       "      <td>2.599278</td>\n",
       "      <td>3.176895</td>\n",
       "      <td>0.012941</td>\n",
       "      <td>...</td>\n",
       "      <td>8.000000</td>\n",
       "      <td>1.989780</td>\n",
       "      <td>0.035754</td>\n",
       "      <td>AU</td>\n",
       "      <td>1.804126</td>\n",
       "      <td>3.113719</td>\n",
       "      <td>2.024285</td>\n",
       "      <td>0</td>\n",
       "      <td>0.636365</td>\n",
       "      <td>2.857144</td>\n",
       "    </tr>\n",
       "    <tr>\n",
       "      <th>1</th>\n",
       "      <td>4</td>\n",
       "      <td>1</td>\n",
       "      <td>NaN</td>\n",
       "      <td>NaN</td>\n",
       "      <td>C</td>\n",
       "      <td>NaN</td>\n",
       "      <td>9.191265</td>\n",
       "      <td>NaN</td>\n",
       "      <td>NaN</td>\n",
       "      <td>2.301630</td>\n",
       "      <td>...</td>\n",
       "      <td>NaN</td>\n",
       "      <td>NaN</td>\n",
       "      <td>0.598896</td>\n",
       "      <td>AF</td>\n",
       "      <td>NaN</td>\n",
       "      <td>NaN</td>\n",
       "      <td>1.957825</td>\n",
       "      <td>0</td>\n",
       "      <td>NaN</td>\n",
       "      <td>NaN</td>\n",
       "    </tr>\n",
       "    <tr>\n",
       "      <th>2</th>\n",
       "      <td>5</td>\n",
       "      <td>1</td>\n",
       "      <td>0.943877</td>\n",
       "      <td>5.310079</td>\n",
       "      <td>C</td>\n",
       "      <td>4.410969</td>\n",
       "      <td>5.326159</td>\n",
       "      <td>3.979592</td>\n",
       "      <td>3.928571</td>\n",
       "      <td>0.019645</td>\n",
       "      <td>...</td>\n",
       "      <td>9.333333</td>\n",
       "      <td>2.477596</td>\n",
       "      <td>0.013452</td>\n",
       "      <td>AE</td>\n",
       "      <td>1.773709</td>\n",
       "      <td>3.922193</td>\n",
       "      <td>1.120468</td>\n",
       "      <td>2</td>\n",
       "      <td>0.883118</td>\n",
       "      <td>1.176472</td>\n",
       "    </tr>\n",
       "    <tr>\n",
       "      <th>3</th>\n",
       "      <td>6</td>\n",
       "      <td>1</td>\n",
       "      <td>0.797415</td>\n",
       "      <td>8.304757</td>\n",
       "      <td>C</td>\n",
       "      <td>4.225930</td>\n",
       "      <td>11.627438</td>\n",
       "      <td>2.097700</td>\n",
       "      <td>1.987549</td>\n",
       "      <td>0.171947</td>\n",
       "      <td>...</td>\n",
       "      <td>7.018256</td>\n",
       "      <td>1.812795</td>\n",
       "      <td>0.002267</td>\n",
       "      <td>CJ</td>\n",
       "      <td>1.415230</td>\n",
       "      <td>2.954381</td>\n",
       "      <td>1.990847</td>\n",
       "      <td>1</td>\n",
       "      <td>1.677108</td>\n",
       "      <td>1.034483</td>\n",
       "    </tr>\n",
       "    <tr>\n",
       "      <th>4</th>\n",
       "      <td>8</td>\n",
       "      <td>1</td>\n",
       "      <td>NaN</td>\n",
       "      <td>NaN</td>\n",
       "      <td>C</td>\n",
       "      <td>NaN</td>\n",
       "      <td>NaN</td>\n",
       "      <td>NaN</td>\n",
       "      <td>NaN</td>\n",
       "      <td>NaN</td>\n",
       "      <td>...</td>\n",
       "      <td>NaN</td>\n",
       "      <td>NaN</td>\n",
       "      <td>NaN</td>\n",
       "      <td>Z</td>\n",
       "      <td>NaN</td>\n",
       "      <td>NaN</td>\n",
       "      <td>NaN</td>\n",
       "      <td>0</td>\n",
       "      <td>NaN</td>\n",
       "      <td>NaN</td>\n",
       "    </tr>\n",
       "    <tr>\n",
       "      <th>5</th>\n",
       "      <td>9</td>\n",
       "      <td>0</td>\n",
       "      <td>NaN</td>\n",
       "      <td>NaN</td>\n",
       "      <td>C</td>\n",
       "      <td>NaN</td>\n",
       "      <td>8.856791</td>\n",
       "      <td>NaN</td>\n",
       "      <td>NaN</td>\n",
       "      <td>0.359993</td>\n",
       "      <td>...</td>\n",
       "      <td>NaN</td>\n",
       "      <td>NaN</td>\n",
       "      <td>0.049861</td>\n",
       "      <td>X</td>\n",
       "      <td>NaN</td>\n",
       "      <td>NaN</td>\n",
       "      <td>1.536222</td>\n",
       "      <td>0</td>\n",
       "      <td>NaN</td>\n",
       "      <td>NaN</td>\n",
       "    </tr>\n",
       "    <tr>\n",
       "      <th>6</th>\n",
       "      <td>12</td>\n",
       "      <td>0</td>\n",
       "      <td>0.899806</td>\n",
       "      <td>7.312995</td>\n",
       "      <td>C</td>\n",
       "      <td>3.494148</td>\n",
       "      <td>9.946200</td>\n",
       "      <td>1.926070</td>\n",
       "      <td>1.770427</td>\n",
       "      <td>0.066251</td>\n",
       "      <td>...</td>\n",
       "      <td>3.476299</td>\n",
       "      <td>1.992594</td>\n",
       "      <td>0.083758</td>\n",
       "      <td>BJ</td>\n",
       "      <td>3.276100</td>\n",
       "      <td>1.623298</td>\n",
       "      <td>2.266575</td>\n",
       "      <td>0</td>\n",
       "      <td>2.263736</td>\n",
       "      <td>0.970873</td>\n",
       "    </tr>\n",
       "    <tr>\n",
       "      <th>7</th>\n",
       "      <td>21</td>\n",
       "      <td>1</td>\n",
       "      <td>NaN</td>\n",
       "      <td>NaN</td>\n",
       "      <td>C</td>\n",
       "      <td>NaN</td>\n",
       "      <td>NaN</td>\n",
       "      <td>NaN</td>\n",
       "      <td>NaN</td>\n",
       "      <td>NaN</td>\n",
       "      <td>...</td>\n",
       "      <td>NaN</td>\n",
       "      <td>NaN</td>\n",
       "      <td>NaN</td>\n",
       "      <td>BY</td>\n",
       "      <td>NaN</td>\n",
       "      <td>NaN</td>\n",
       "      <td>NaN</td>\n",
       "      <td>0</td>\n",
       "      <td>NaN</td>\n",
       "      <td>NaN</td>\n",
       "    </tr>\n",
       "    <tr>\n",
       "      <th>8</th>\n",
       "      <td>22</td>\n",
       "      <td>0</td>\n",
       "      <td>2.078651</td>\n",
       "      <td>8.462619</td>\n",
       "      <td>NaN</td>\n",
       "      <td>3.739030</td>\n",
       "      <td>5.265636</td>\n",
       "      <td>1.573033</td>\n",
       "      <td>2.303371</td>\n",
       "      <td>0.015869</td>\n",
       "      <td>...</td>\n",
       "      <td>8.148148</td>\n",
       "      <td>1.875560</td>\n",
       "      <td>0.018659</td>\n",
       "      <td>S</td>\n",
       "      <td>1.159637</td>\n",
       "      <td>5.582865</td>\n",
       "      <td>1.105283</td>\n",
       "      <td>0</td>\n",
       "      <td>1.170731</td>\n",
       "      <td>3.333334</td>\n",
       "    </tr>\n",
       "    <tr>\n",
       "      <th>9</th>\n",
       "      <td>23</td>\n",
       "      <td>1</td>\n",
       "      <td>1.144802</td>\n",
       "      <td>5.880606</td>\n",
       "      <td>C</td>\n",
       "      <td>3.244469</td>\n",
       "      <td>9.538384</td>\n",
       "      <td>2.500001</td>\n",
       "      <td>1.559405</td>\n",
       "      <td>0.412610</td>\n",
       "      <td>...</td>\n",
       "      <td>7.325843</td>\n",
       "      <td>4.896617</td>\n",
       "      <td>0.008944</td>\n",
       "      <td>E</td>\n",
       "      <td>1.344550</td>\n",
       "      <td>1.601176</td>\n",
       "      <td>1.928009</td>\n",
       "      <td>0</td>\n",
       "      <td>3.174603</td>\n",
       "      <td>1.000000</td>\n",
       "    </tr>\n",
       "  </tbody>\n",
       "</table>\n",
       "<p>10 rows × 133 columns</p>\n",
       "</div>"
      ],
      "text/plain": [
       "   ID  target        v1        v2   v3        v4         v5        v6  \\\n",
       "0   3       1  1.335739  8.727474    C  3.921026   7.915266  2.599278   \n",
       "1   4       1       NaN       NaN    C       NaN   9.191265       NaN   \n",
       "2   5       1  0.943877  5.310079    C  4.410969   5.326159  3.979592   \n",
       "3   6       1  0.797415  8.304757    C  4.225930  11.627438  2.097700   \n",
       "4   8       1       NaN       NaN    C       NaN        NaN       NaN   \n",
       "5   9       0       NaN       NaN    C       NaN   8.856791       NaN   \n",
       "6  12       0  0.899806  7.312995    C  3.494148   9.946200  1.926070   \n",
       "7  21       1       NaN       NaN    C       NaN        NaN       NaN   \n",
       "8  22       0  2.078651  8.462619  NaN  3.739030   5.265636  1.573033   \n",
       "9  23       1  1.144802  5.880606    C  3.244469   9.538384  2.500001   \n",
       "\n",
       "         v7        v8    ...         v122      v123      v124  v125      v126  \\\n",
       "0  3.176895  0.012941    ...     8.000000  1.989780  0.035754    AU  1.804126   \n",
       "1       NaN  2.301630    ...          NaN       NaN  0.598896    AF       NaN   \n",
       "2  3.928571  0.019645    ...     9.333333  2.477596  0.013452    AE  1.773709   \n",
       "3  1.987549  0.171947    ...     7.018256  1.812795  0.002267    CJ  1.415230   \n",
       "4       NaN       NaN    ...          NaN       NaN       NaN     Z       NaN   \n",
       "5       NaN  0.359993    ...          NaN       NaN  0.049861     X       NaN   \n",
       "6  1.770427  0.066251    ...     3.476299  1.992594  0.083758    BJ  3.276100   \n",
       "7       NaN       NaN    ...          NaN       NaN       NaN    BY       NaN   \n",
       "8  2.303371  0.015869    ...     8.148148  1.875560  0.018659     S  1.159637   \n",
       "9  1.559405  0.412610    ...     7.325843  4.896617  0.008944     E  1.344550   \n",
       "\n",
       "       v127      v128  v129      v130      v131  \n",
       "0  3.113719  2.024285     0  0.636365  2.857144  \n",
       "1       NaN  1.957825     0       NaN       NaN  \n",
       "2  3.922193  1.120468     2  0.883118  1.176472  \n",
       "3  2.954381  1.990847     1  1.677108  1.034483  \n",
       "4       NaN       NaN     0       NaN       NaN  \n",
       "5       NaN  1.536222     0       NaN       NaN  \n",
       "6  1.623298  2.266575     0  2.263736  0.970873  \n",
       "7       NaN       NaN     0       NaN       NaN  \n",
       "8  5.582865  1.105283     0  1.170731  3.333334  \n",
       "9  1.601176  1.928009     0  3.174603  1.000000  \n",
       "\n",
       "[10 rows x 133 columns]"
      ]
     },
     "execution_count": 4,
     "metadata": {},
     "output_type": "execute_result"
    }
   ],
   "source": [
    "df_train.head(10)"
   ]
  },
  {
   "cell_type": "code",
   "execution_count": 5,
   "metadata": {
    "scrolled": true
   },
   "outputs": [
    {
     "data": {
      "text/html": [
       "<div>\n",
       "<style>\n",
       "    .dataframe thead tr:only-child th {\n",
       "        text-align: right;\n",
       "    }\n",
       "\n",
       "    .dataframe thead th {\n",
       "        text-align: left;\n",
       "    }\n",
       "\n",
       "    .dataframe tbody tr th {\n",
       "        vertical-align: top;\n",
       "    }\n",
       "</style>\n",
       "<table border=\"1\" class=\"dataframe\">\n",
       "  <thead>\n",
       "    <tr style=\"text-align: right;\">\n",
       "      <th></th>\n",
       "      <th>ID</th>\n",
       "      <th>target</th>\n",
       "      <th>v1</th>\n",
       "      <th>v2</th>\n",
       "      <th>v4</th>\n",
       "      <th>v5</th>\n",
       "      <th>v6</th>\n",
       "      <th>v7</th>\n",
       "      <th>v8</th>\n",
       "      <th>v9</th>\n",
       "      <th>...</th>\n",
       "      <th>v121</th>\n",
       "      <th>v122</th>\n",
       "      <th>v123</th>\n",
       "      <th>v124</th>\n",
       "      <th>v126</th>\n",
       "      <th>v127</th>\n",
       "      <th>v128</th>\n",
       "      <th>v129</th>\n",
       "      <th>v130</th>\n",
       "      <th>v131</th>\n",
       "    </tr>\n",
       "  </thead>\n",
       "  <tbody>\n",
       "    <tr>\n",
       "      <th>count</th>\n",
       "      <td>114321.000000</td>\n",
       "      <td>114321.000000</td>\n",
       "      <td>6.448900e+04</td>\n",
       "      <td>6.452500e+04</td>\n",
       "      <td>6.452500e+04</td>\n",
       "      <td>6.569700e+04</td>\n",
       "      <td>6.448900e+04</td>\n",
       "      <td>6.448900e+04</td>\n",
       "      <td>6.570200e+04</td>\n",
       "      <td>6.447000e+04</td>\n",
       "      <td>...</td>\n",
       "      <td>6.448100e+04</td>\n",
       "      <td>6.447000e+04</td>\n",
       "      <td>63643.000000</td>\n",
       "      <td>6.570200e+04</td>\n",
       "      <td>6.448900e+04</td>\n",
       "      <td>6.448900e+04</td>\n",
       "      <td>6.569700e+04</td>\n",
       "      <td>114321.000000</td>\n",
       "      <td>6.447800e+04</td>\n",
       "      <td>6.442600e+04</td>\n",
       "    </tr>\n",
       "    <tr>\n",
       "      <th>mean</th>\n",
       "      <td>114228.928228</td>\n",
       "      <td>0.761199</td>\n",
       "      <td>1.630686e+00</td>\n",
       "      <td>7.464411e+00</td>\n",
       "      <td>4.145098e+00</td>\n",
       "      <td>8.742359e+00</td>\n",
       "      <td>2.436402e+00</td>\n",
       "      <td>2.483921e+00</td>\n",
       "      <td>1.496569e+00</td>\n",
       "      <td>9.031859e+00</td>\n",
       "      <td>...</td>\n",
       "      <td>2.737596e+00</td>\n",
       "      <td>6.822439e+00</td>\n",
       "      <td>3.549938</td>\n",
       "      <td>9.198120e-01</td>\n",
       "      <td>1.672658e+00</td>\n",
       "      <td>3.239542e+00</td>\n",
       "      <td>2.030373e+00</td>\n",
       "      <td>0.310144</td>\n",
       "      <td>1.925763e+00</td>\n",
       "      <td>1.739389e+00</td>\n",
       "    </tr>\n",
       "    <tr>\n",
       "      <th>std</th>\n",
       "      <td>65934.487362</td>\n",
       "      <td>0.426353</td>\n",
       "      <td>1.082813e+00</td>\n",
       "      <td>2.961676e+00</td>\n",
       "      <td>1.148263e+00</td>\n",
       "      <td>2.036018e+00</td>\n",
       "      <td>5.999653e-01</td>\n",
       "      <td>5.894485e-01</td>\n",
       "      <td>2.783003e+00</td>\n",
       "      <td>1.930262e+00</td>\n",
       "      <td>...</td>\n",
       "      <td>1.356294e+00</td>\n",
       "      <td>1.795978e+00</td>\n",
       "      <td>2.604704</td>\n",
       "      <td>2.099407e+00</td>\n",
       "      <td>5.031683e-01</td>\n",
       "      <td>1.625988e+00</td>\n",
       "      <td>1.074232e+00</td>\n",
       "      <td>0.693262</td>\n",
       "      <td>1.264497e+00</td>\n",
       "      <td>1.134702e+00</td>\n",
       "    </tr>\n",
       "    <tr>\n",
       "      <th>min</th>\n",
       "      <td>3.000000</td>\n",
       "      <td>0.000000</td>\n",
       "      <td>-9.996497e-07</td>\n",
       "      <td>-9.817614e-07</td>\n",
       "      <td>-6.475929e-07</td>\n",
       "      <td>-5.287068e-07</td>\n",
       "      <td>-9.055091e-07</td>\n",
       "      <td>-9.468765e-07</td>\n",
       "      <td>-7.783778e-07</td>\n",
       "      <td>-9.828757e-07</td>\n",
       "      <td>...</td>\n",
       "      <td>-9.820642e-07</td>\n",
       "      <td>-9.978497e-07</td>\n",
       "      <td>0.019139</td>\n",
       "      <td>-9.994953e-07</td>\n",
       "      <td>-9.564174e-07</td>\n",
       "      <td>-9.223798e-07</td>\n",
       "      <td>8.197812e-07</td>\n",
       "      <td>0.000000</td>\n",
       "      <td>-9.901257e-07</td>\n",
       "      <td>-9.999134e-07</td>\n",
       "    </tr>\n",
       "    <tr>\n",
       "      <th>25%</th>\n",
       "      <td>57280.000000</td>\n",
       "      <td>1.000000</td>\n",
       "      <td>9.135798e-01</td>\n",
       "      <td>5.316428e+00</td>\n",
       "      <td>3.487398e+00</td>\n",
       "      <td>7.605918e+00</td>\n",
       "      <td>2.065064e+00</td>\n",
       "      <td>2.101477e+00</td>\n",
       "      <td>8.658986e-02</td>\n",
       "      <td>7.853659e+00</td>\n",
       "      <td>...</td>\n",
       "      <td>1.786965e+00</td>\n",
       "      <td>5.647712e+00</td>\n",
       "      <td>1.963315</td>\n",
       "      <td>2.053777e-02</td>\n",
       "      <td>1.417600e+00</td>\n",
       "      <td>2.101900e+00</td>\n",
       "      <td>1.393830e+00</td>\n",
       "      <td>0.000000</td>\n",
       "      <td>1.106172e+00</td>\n",
       "      <td>1.012658e+00</td>\n",
       "    </tr>\n",
       "    <tr>\n",
       "      <th>50%</th>\n",
       "      <td>114189.000000</td>\n",
       "      <td>1.000000</td>\n",
       "      <td>1.469550e+00</td>\n",
       "      <td>7.023803e+00</td>\n",
       "      <td>4.205991e+00</td>\n",
       "      <td>8.670867e+00</td>\n",
       "      <td>2.412790e+00</td>\n",
       "      <td>2.452166e+00</td>\n",
       "      <td>3.860317e-01</td>\n",
       "      <td>9.059582e+00</td>\n",
       "      <td>...</td>\n",
       "      <td>2.436195e+00</td>\n",
       "      <td>6.749117e+00</td>\n",
       "      <td>2.739239</td>\n",
       "      <td>1.398639e-01</td>\n",
       "      <td>1.614802e+00</td>\n",
       "      <td>2.963620e+00</td>\n",
       "      <td>1.798436e+00</td>\n",
       "      <td>0.000000</td>\n",
       "      <td>1.560138e+00</td>\n",
       "      <td>1.589403e+00</td>\n",
       "    </tr>\n",
       "    <tr>\n",
       "      <th>75%</th>\n",
       "      <td>171206.000000</td>\n",
       "      <td>1.000000</td>\n",
       "      <td>2.136128e+00</td>\n",
       "      <td>9.465497e+00</td>\n",
       "      <td>4.833250e+00</td>\n",
       "      <td>9.771353e+00</td>\n",
       "      <td>2.775285e+00</td>\n",
       "      <td>2.834285e+00</td>\n",
       "      <td>1.625246e+00</td>\n",
       "      <td>1.023256e+01</td>\n",
       "      <td>...</td>\n",
       "      <td>3.379175e+00</td>\n",
       "      <td>7.911392e+00</td>\n",
       "      <td>4.075361</td>\n",
       "      <td>8.718333e-01</td>\n",
       "      <td>1.843886e+00</td>\n",
       "      <td>4.108146e+00</td>\n",
       "      <td>2.390158e+00</td>\n",
       "      <td>0.000000</td>\n",
       "      <td>2.332425e+00</td>\n",
       "      <td>2.261905e+00</td>\n",
       "    </tr>\n",
       "    <tr>\n",
       "      <th>max</th>\n",
       "      <td>228713.000000</td>\n",
       "      <td>1.000000</td>\n",
       "      <td>2.000000e+01</td>\n",
       "      <td>2.000000e+01</td>\n",
       "      <td>2.000000e+01</td>\n",
       "      <td>2.000000e+01</td>\n",
       "      <td>2.000000e+01</td>\n",
       "      <td>2.000000e+01</td>\n",
       "      <td>2.000000e+01</td>\n",
       "      <td>2.000000e+01</td>\n",
       "      <td>...</td>\n",
       "      <td>2.000000e+01</td>\n",
       "      <td>2.000000e+01</td>\n",
       "      <td>19.686069</td>\n",
       "      <td>2.000000e+01</td>\n",
       "      <td>1.563161e+01</td>\n",
       "      <td>2.000000e+01</td>\n",
       "      <td>2.000000e+01</td>\n",
       "      <td>11.000000</td>\n",
       "      <td>2.000000e+01</td>\n",
       "      <td>2.000000e+01</td>\n",
       "    </tr>\n",
       "  </tbody>\n",
       "</table>\n",
       "<p>8 rows × 114 columns</p>\n",
       "</div>"
      ],
      "text/plain": [
       "                  ID         target            v1            v2            v4  \\\n",
       "count  114321.000000  114321.000000  6.448900e+04  6.452500e+04  6.452500e+04   \n",
       "mean   114228.928228       0.761199  1.630686e+00  7.464411e+00  4.145098e+00   \n",
       "std     65934.487362       0.426353  1.082813e+00  2.961676e+00  1.148263e+00   \n",
       "min         3.000000       0.000000 -9.996497e-07 -9.817614e-07 -6.475929e-07   \n",
       "25%     57280.000000       1.000000  9.135798e-01  5.316428e+00  3.487398e+00   \n",
       "50%    114189.000000       1.000000  1.469550e+00  7.023803e+00  4.205991e+00   \n",
       "75%    171206.000000       1.000000  2.136128e+00  9.465497e+00  4.833250e+00   \n",
       "max    228713.000000       1.000000  2.000000e+01  2.000000e+01  2.000000e+01   \n",
       "\n",
       "                 v5            v6            v7            v8            v9  \\\n",
       "count  6.569700e+04  6.448900e+04  6.448900e+04  6.570200e+04  6.447000e+04   \n",
       "mean   8.742359e+00  2.436402e+00  2.483921e+00  1.496569e+00  9.031859e+00   \n",
       "std    2.036018e+00  5.999653e-01  5.894485e-01  2.783003e+00  1.930262e+00   \n",
       "min   -5.287068e-07 -9.055091e-07 -9.468765e-07 -7.783778e-07 -9.828757e-07   \n",
       "25%    7.605918e+00  2.065064e+00  2.101477e+00  8.658986e-02  7.853659e+00   \n",
       "50%    8.670867e+00  2.412790e+00  2.452166e+00  3.860317e-01  9.059582e+00   \n",
       "75%    9.771353e+00  2.775285e+00  2.834285e+00  1.625246e+00  1.023256e+01   \n",
       "max    2.000000e+01  2.000000e+01  2.000000e+01  2.000000e+01  2.000000e+01   \n",
       "\n",
       "           ...               v121          v122          v123          v124  \\\n",
       "count      ...       6.448100e+04  6.447000e+04  63643.000000  6.570200e+04   \n",
       "mean       ...       2.737596e+00  6.822439e+00      3.549938  9.198120e-01   \n",
       "std        ...       1.356294e+00  1.795978e+00      2.604704  2.099407e+00   \n",
       "min        ...      -9.820642e-07 -9.978497e-07      0.019139 -9.994953e-07   \n",
       "25%        ...       1.786965e+00  5.647712e+00      1.963315  2.053777e-02   \n",
       "50%        ...       2.436195e+00  6.749117e+00      2.739239  1.398639e-01   \n",
       "75%        ...       3.379175e+00  7.911392e+00      4.075361  8.718333e-01   \n",
       "max        ...       2.000000e+01  2.000000e+01     19.686069  2.000000e+01   \n",
       "\n",
       "               v126          v127          v128           v129          v130  \\\n",
       "count  6.448900e+04  6.448900e+04  6.569700e+04  114321.000000  6.447800e+04   \n",
       "mean   1.672658e+00  3.239542e+00  2.030373e+00       0.310144  1.925763e+00   \n",
       "std    5.031683e-01  1.625988e+00  1.074232e+00       0.693262  1.264497e+00   \n",
       "min   -9.564174e-07 -9.223798e-07  8.197812e-07       0.000000 -9.901257e-07   \n",
       "25%    1.417600e+00  2.101900e+00  1.393830e+00       0.000000  1.106172e+00   \n",
       "50%    1.614802e+00  2.963620e+00  1.798436e+00       0.000000  1.560138e+00   \n",
       "75%    1.843886e+00  4.108146e+00  2.390158e+00       0.000000  2.332425e+00   \n",
       "max    1.563161e+01  2.000000e+01  2.000000e+01      11.000000  2.000000e+01   \n",
       "\n",
       "               v131  \n",
       "count  6.442600e+04  \n",
       "mean   1.739389e+00  \n",
       "std    1.134702e+00  \n",
       "min   -9.999134e-07  \n",
       "25%    1.012658e+00  \n",
       "50%    1.589403e+00  \n",
       "75%    2.261905e+00  \n",
       "max    2.000000e+01  \n",
       "\n",
       "[8 rows x 114 columns]"
      ]
     },
     "execution_count": 5,
     "metadata": {},
     "output_type": "execute_result"
    }
   ],
   "source": [
    "df_train.describe()"
   ]
  },
  {
   "cell_type": "code",
   "execution_count": 6,
   "metadata": {
    "scrolled": true
   },
   "outputs": [
    {
     "data": {
      "text/plain": [
       "1    87021\n",
       "0    27300\n",
       "Name: target, dtype: int64"
      ]
     },
     "execution_count": 6,
     "metadata": {},
     "output_type": "execute_result"
    }
   ],
   "source": [
    "df_train['target'].value_counts()"
   ]
  },
  {
   "cell_type": "code",
   "execution_count": 7,
   "metadata": {
    "scrolled": true
   },
   "outputs": [
    {
     "data": {
      "text/plain": [
       "v30     60110\n",
       "v113    55304\n",
       "v102    51316\n",
       "v85     50682\n",
       "v119    50680\n",
       "v51     50678\n",
       "v123    50678\n",
       "v23     50675\n",
       "v78     49895\n",
       "v115    49895\n",
       "dtype: int64"
      ]
     },
     "execution_count": 7,
     "metadata": {},
     "output_type": "execute_result"
    }
   ],
   "source": [
    "df_train.isnull().sum().sort_values(ascending=False).head(10)"
   ]
  },
  {
   "cell_type": "code",
   "execution_count": 8,
   "metadata": {
    "collapsed": true
   },
   "outputs": [],
   "source": [
    "dropcolumns=[]\n",
    "for c in df_train.columns:\n",
    "    if df_train[c].isnull().sum()>=df_train.shape[0]*.5:\n",
    "        dropcolumns.append(c)"
   ]
  },
  {
   "cell_type": "code",
   "execution_count": 9,
   "metadata": {
    "collapsed": true
   },
   "outputs": [],
   "source": [
    "df_train_1=df_train.drop(dropcolumns, axis=1)"
   ]
  },
  {
   "cell_type": "code",
   "execution_count": 10,
   "metadata": {},
   "outputs": [
    {
     "data": {
      "text/plain": [
       "((114321, 133), (114321, 132))"
      ]
     },
     "execution_count": 10,
     "metadata": {},
     "output_type": "execute_result"
    }
   ],
   "source": [
    "df_train.shape,df_train_1.shape"
   ]
  },
  {
   "cell_type": "code",
   "execution_count": 11,
   "metadata": {},
   "outputs": [
    {
     "data": {
      "text/plain": [
       "59613     118\n",
       "10564     110\n",
       "48674     109\n",
       "41677     109\n",
       "62264     109\n",
       "112918    109\n",
       "11625     109\n",
       "73703     109\n",
       "97985     108\n",
       "22051     108\n",
       "dtype: int64"
      ]
     },
     "execution_count": 11,
     "metadata": {},
     "output_type": "execute_result"
    }
   ],
   "source": [
    "df_train.T.isnull().sum().sort_values(ascending=False).head(10)"
   ]
  },
  {
   "cell_type": "code",
   "execution_count": 12,
   "metadata": {},
   "outputs": [
    {
     "data": {
      "text/plain": [
       "ID         0\n",
       "target     0\n",
       "v110       0\n",
       "v79        0\n",
       "v75        0\n",
       "v74        0\n",
       "v72        0\n",
       "v71        0\n",
       "v129       0\n",
       "v66        0\n",
       "v62        0\n",
       "v47        0\n",
       "v38        0\n",
       "v24        0\n",
       "v107       3\n",
       "v91        3\n",
       "v52        3\n",
       "v14        4\n",
       "v114      30\n",
       "v125      77\n",
       "dtype: int64"
      ]
     },
     "execution_count": 12,
     "metadata": {},
     "output_type": "execute_result"
    }
   ],
   "source": [
    "df_train.isnull().sum().sort_values().head(20)"
   ]
  },
  {
   "cell_type": "code",
   "execution_count": 13,
   "metadata": {
    "scrolled": false
   },
   "outputs": [
    {
     "data": {
      "text/html": [
       "<div>\n",
       "<style>\n",
       "    .dataframe thead tr:only-child th {\n",
       "        text-align: right;\n",
       "    }\n",
       "\n",
       "    .dataframe thead th {\n",
       "        text-align: left;\n",
       "    }\n",
       "\n",
       "    .dataframe tbody tr th {\n",
       "        vertical-align: top;\n",
       "    }\n",
       "</style>\n",
       "<table border=\"1\" class=\"dataframe\">\n",
       "  <thead>\n",
       "    <tr style=\"text-align: right;\">\n",
       "      <th></th>\n",
       "      <th>ID</th>\n",
       "      <th>target</th>\n",
       "      <th>v110</th>\n",
       "      <th>v79</th>\n",
       "      <th>v75</th>\n",
       "      <th>v74</th>\n",
       "      <th>v72</th>\n",
       "      <th>v71</th>\n",
       "      <th>v129</th>\n",
       "      <th>v66</th>\n",
       "      <th>v62</th>\n",
       "      <th>v47</th>\n",
       "      <th>v38</th>\n",
       "      <th>v24</th>\n",
       "      <th>v107</th>\n",
       "      <th>v91</th>\n",
       "      <th>v52</th>\n",
       "      <th>v14</th>\n",
       "      <th>v114</th>\n",
       "      <th>v125</th>\n",
       "    </tr>\n",
       "  </thead>\n",
       "  <tbody>\n",
       "    <tr>\n",
       "      <th>0</th>\n",
       "      <td>3</td>\n",
       "      <td>1</td>\n",
       "      <td>B</td>\n",
       "      <td>E</td>\n",
       "      <td>D</td>\n",
       "      <td>B</td>\n",
       "      <td>1</td>\n",
       "      <td>F</td>\n",
       "      <td>0</td>\n",
       "      <td>C</td>\n",
       "      <td>1</td>\n",
       "      <td>C</td>\n",
       "      <td>0</td>\n",
       "      <td>C</td>\n",
       "      <td>E</td>\n",
       "      <td>A</td>\n",
       "      <td>G</td>\n",
       "      <td>11.636387</td>\n",
       "      <td>15.634907</td>\n",
       "      <td>AU</td>\n",
       "    </tr>\n",
       "    <tr>\n",
       "      <th>1</th>\n",
       "      <td>4</td>\n",
       "      <td>1</td>\n",
       "      <td>A</td>\n",
       "      <td>D</td>\n",
       "      <td>D</td>\n",
       "      <td>B</td>\n",
       "      <td>2</td>\n",
       "      <td>F</td>\n",
       "      <td>0</td>\n",
       "      <td>A</td>\n",
       "      <td>2</td>\n",
       "      <td>E</td>\n",
       "      <td>0</td>\n",
       "      <td>C</td>\n",
       "      <td>B</td>\n",
       "      <td>B</td>\n",
       "      <td>G</td>\n",
       "      <td>11.636386</td>\n",
       "      <td>10.308044</td>\n",
       "      <td>AF</td>\n",
       "    </tr>\n",
       "    <tr>\n",
       "      <th>2</th>\n",
       "      <td>5</td>\n",
       "      <td>1</td>\n",
       "      <td>B</td>\n",
       "      <td>E</td>\n",
       "      <td>B</td>\n",
       "      <td>B</td>\n",
       "      <td>3</td>\n",
       "      <td>B</td>\n",
       "      <td>2</td>\n",
       "      <td>A</td>\n",
       "      <td>1</td>\n",
       "      <td>C</td>\n",
       "      <td>0</td>\n",
       "      <td>E</td>\n",
       "      <td>C</td>\n",
       "      <td>G</td>\n",
       "      <td>F</td>\n",
       "      <td>9.603542</td>\n",
       "      <td>11.205561</td>\n",
       "      <td>AE</td>\n",
       "    </tr>\n",
       "    <tr>\n",
       "      <th>3</th>\n",
       "      <td>6</td>\n",
       "      <td>1</td>\n",
       "      <td>B</td>\n",
       "      <td>B</td>\n",
       "      <td>D</td>\n",
       "      <td>B</td>\n",
       "      <td>2</td>\n",
       "      <td>F</td>\n",
       "      <td>1</td>\n",
       "      <td>A</td>\n",
       "      <td>1</td>\n",
       "      <td>C</td>\n",
       "      <td>0</td>\n",
       "      <td>D</td>\n",
       "      <td>B</td>\n",
       "      <td>B</td>\n",
       "      <td>H</td>\n",
       "      <td>14.094723</td>\n",
       "      <td>13.777666</td>\n",
       "      <td>CJ</td>\n",
       "    </tr>\n",
       "    <tr>\n",
       "      <th>4</th>\n",
       "      <td>8</td>\n",
       "      <td>1</td>\n",
       "      <td>A</td>\n",
       "      <td>C</td>\n",
       "      <td>D</td>\n",
       "      <td>B</td>\n",
       "      <td>1</td>\n",
       "      <td>F</td>\n",
       "      <td>0</td>\n",
       "      <td>C</td>\n",
       "      <td>1</td>\n",
       "      <td>I</td>\n",
       "      <td>0</td>\n",
       "      <td>E</td>\n",
       "      <td>C</td>\n",
       "      <td>G</td>\n",
       "      <td>H</td>\n",
       "      <td>10.991098</td>\n",
       "      <td>14.097099</td>\n",
       "      <td>Z</td>\n",
       "    </tr>\n",
       "    <tr>\n",
       "      <th>5</th>\n",
       "      <td>9</td>\n",
       "      <td>0</td>\n",
       "      <td>A</td>\n",
       "      <td>I</td>\n",
       "      <td>D</td>\n",
       "      <td>B</td>\n",
       "      <td>1</td>\n",
       "      <td>F</td>\n",
       "      <td>0</td>\n",
       "      <td>A</td>\n",
       "      <td>1</td>\n",
       "      <td>I</td>\n",
       "      <td>0</td>\n",
       "      <td>A</td>\n",
       "      <td>C</td>\n",
       "      <td>G</td>\n",
       "      <td>K</td>\n",
       "      <td>11.916255</td>\n",
       "      <td>15.750502</td>\n",
       "      <td>X</td>\n",
       "    </tr>\n",
       "    <tr>\n",
       "      <th>6</th>\n",
       "      <td>12</td>\n",
       "      <td>0</td>\n",
       "      <td>B</td>\n",
       "      <td>E</td>\n",
       "      <td>D</td>\n",
       "      <td>B</td>\n",
       "      <td>2</td>\n",
       "      <td>F</td>\n",
       "      <td>0</td>\n",
       "      <td>A</td>\n",
       "      <td>2</td>\n",
       "      <td>C</td>\n",
       "      <td>0</td>\n",
       "      <td>E</td>\n",
       "      <td>B</td>\n",
       "      <td>B</td>\n",
       "      <td>A</td>\n",
       "      <td>12.148604</td>\n",
       "      <td>9.010082</td>\n",
       "      <td>BJ</td>\n",
       "    </tr>\n",
       "    <tr>\n",
       "      <th>7</th>\n",
       "      <td>21</td>\n",
       "      <td>1</td>\n",
       "      <td>A</td>\n",
       "      <td>C</td>\n",
       "      <td>D</td>\n",
       "      <td>B</td>\n",
       "      <td>2</td>\n",
       "      <td>F</td>\n",
       "      <td>0</td>\n",
       "      <td>C</td>\n",
       "      <td>2</td>\n",
       "      <td>I</td>\n",
       "      <td>0</td>\n",
       "      <td>D</td>\n",
       "      <td>E</td>\n",
       "      <td>A</td>\n",
       "      <td>C</td>\n",
       "      <td>12.793945</td>\n",
       "      <td>18.705610</td>\n",
       "      <td>BY</td>\n",
       "    </tr>\n",
       "    <tr>\n",
       "      <th>8</th>\n",
       "      <td>22</td>\n",
       "      <td>0</td>\n",
       "      <td>C</td>\n",
       "      <td>P</td>\n",
       "      <td>B</td>\n",
       "      <td>B</td>\n",
       "      <td>0</td>\n",
       "      <td>B</td>\n",
       "      <td>0</td>\n",
       "      <td>B</td>\n",
       "      <td>0</td>\n",
       "      <td>D</td>\n",
       "      <td>0</td>\n",
       "      <td>E</td>\n",
       "      <td>D</td>\n",
       "      <td>C</td>\n",
       "      <td>H</td>\n",
       "      <td>12.603403</td>\n",
       "      <td>12.536835</td>\n",
       "      <td>S</td>\n",
       "    </tr>\n",
       "    <tr>\n",
       "      <th>9</th>\n",
       "      <td>23</td>\n",
       "      <td>1</td>\n",
       "      <td>A</td>\n",
       "      <td>C</td>\n",
       "      <td>D</td>\n",
       "      <td>B</td>\n",
       "      <td>3</td>\n",
       "      <td>F</td>\n",
       "      <td>0</td>\n",
       "      <td>A</td>\n",
       "      <td>3</td>\n",
       "      <td>I</td>\n",
       "      <td>0</td>\n",
       "      <td>C</td>\n",
       "      <td>E</td>\n",
       "      <td>A</td>\n",
       "      <td>A</td>\n",
       "      <td>13.790046</td>\n",
       "      <td>13.434123</td>\n",
       "      <td>E</td>\n",
       "    </tr>\n",
       "  </tbody>\n",
       "</table>\n",
       "</div>"
      ],
      "text/plain": [
       "   ID  target v110 v79 v75 v74  v72 v71  v129 v66  v62 v47  v38 v24 v107 v91  \\\n",
       "0   3       1    B   E   D   B    1   F     0   C    1   C    0   C    E   A   \n",
       "1   4       1    A   D   D   B    2   F     0   A    2   E    0   C    B   B   \n",
       "2   5       1    B   E   B   B    3   B     2   A    1   C    0   E    C   G   \n",
       "3   6       1    B   B   D   B    2   F     1   A    1   C    0   D    B   B   \n",
       "4   8       1    A   C   D   B    1   F     0   C    1   I    0   E    C   G   \n",
       "5   9       0    A   I   D   B    1   F     0   A    1   I    0   A    C   G   \n",
       "6  12       0    B   E   D   B    2   F     0   A    2   C    0   E    B   B   \n",
       "7  21       1    A   C   D   B    2   F     0   C    2   I    0   D    E   A   \n",
       "8  22       0    C   P   B   B    0   B     0   B    0   D    0   E    D   C   \n",
       "9  23       1    A   C   D   B    3   F     0   A    3   I    0   C    E   A   \n",
       "\n",
       "  v52        v14       v114 v125  \n",
       "0   G  11.636387  15.634907   AU  \n",
       "1   G  11.636386  10.308044   AF  \n",
       "2   F   9.603542  11.205561   AE  \n",
       "3   H  14.094723  13.777666   CJ  \n",
       "4   H  10.991098  14.097099    Z  \n",
       "5   K  11.916255  15.750502    X  \n",
       "6   A  12.148604   9.010082   BJ  \n",
       "7   C  12.793945  18.705610   BY  \n",
       "8   H  12.603403  12.536835    S  \n",
       "9   A  13.790046  13.434123    E  "
      ]
     },
     "execution_count": 13,
     "metadata": {},
     "output_type": "execute_result"
    }
   ],
   "source": [
    "df_train_clusters=df_train[df_train.isnull().sum().sort_values().head(20).index]\n",
    "df_train_clusters.head(10)"
   ]
  },
  {
   "cell_type": "code",
   "execution_count": 14,
   "metadata": {},
   "outputs": [
    {
     "data": {
      "text/plain": [
       "Index([u'ID', u'target', u'v110', u'v79', u'v75', u'v74', u'v72', u'v71',\n",
       "       u'v129', u'v66', u'v62', u'v47', u'v38', u'v24', u'v107', u'v91',\n",
       "       u'v52', u'v14', u'v114', u'v125'],\n",
       "      dtype='object')"
      ]
     },
     "execution_count": 14,
     "metadata": {},
     "output_type": "execute_result"
    }
   ],
   "source": [
    "df_train_clusters.columns"
   ]
  },
  {
   "cell_type": "code",
   "execution_count": 15,
   "metadata": {
    "collapsed": true
   },
   "outputs": [],
   "source": [
    "df_test_clusters=df_test[[u'ID', u'v110', u'v79', u'v75', u'v74', u'v72', u'v71',\n",
    "       u'v129', u'v66', u'v62', u'v47', u'v38', u'v24', u'v107', u'v91',\n",
    "       u'v52', u'v14', u'v114', u'v125']]"
   ]
  },
  {
   "cell_type": "code",
   "execution_count": 16,
   "metadata": {},
   "outputs": [
    {
     "data": {
      "text/plain": [
       "((228714, 20), (114321, 20), (114393, 19))"
      ]
     },
     "execution_count": 16,
     "metadata": {},
     "output_type": "execute_result"
    }
   ],
   "source": [
    "df_clusters=pd.concat([df_train_clusters,df_test_clusters])\n",
    "df_clusters.shape,df_train_clusters.shape,df_test_clusters.shape"
   ]
  },
  {
   "cell_type": "code",
   "execution_count": 17,
   "metadata": {
    "scrolled": true
   },
   "outputs": [
    {
     "name": "stderr",
     "output_type": "stream",
     "text": [
      "/home/ulises/anaconda2/lib/python2.7/site-packages/numpy/lib/arraysetops.py:216: FutureWarning: numpy not_equal will not check object identity in the future. The comparison did not return the same result as suggested by the identity (`is`)) and will change.\n",
      "  flag = np.concatenate(([True], aux[1:] != aux[:-1]))\n",
      "/home/ulises/anaconda2/lib/python2.7/site-packages/numpy/lib/arraysetops.py:275: FutureWarning: numpy equal will not check object identity in the future. The comparison did not return the same result as suggested by the identity (`is`)) and will change.\n",
      "  return aux[:-1][aux[1:] == aux[:-1]]\n",
      "/home/ulises/anaconda2/lib/python2.7/site-packages/ipykernel_launcher.py:8: SettingWithCopyWarning: \n",
      "A value is trying to be set on a copy of a slice from a DataFrame.\n",
      "Try using .loc[row_indexer,col_indexer] = value instead\n",
      "\n",
      "See the caveats in the documentation: http://pandas.pydata.org/pandas-docs/stable/indexing.html#indexing-view-versus-copy\n",
      "  \n",
      "/home/ulises/anaconda2/lib/python2.7/site-packages/ipykernel_launcher.py:9: SettingWithCopyWarning: \n",
      "A value is trying to be set on a copy of a slice from a DataFrame.\n",
      "Try using .loc[row_indexer,col_indexer] = value instead\n",
      "\n",
      "See the caveats in the documentation: http://pandas.pydata.org/pandas-docs/stable/indexing.html#indexing-view-versus-copy\n",
      "  if __name__ == '__main__':\n"
     ]
    },
    {
     "data": {
      "text/html": [
       "<div>\n",
       "<style>\n",
       "    .dataframe thead tr:only-child th {\n",
       "        text-align: right;\n",
       "    }\n",
       "\n",
       "    .dataframe thead th {\n",
       "        text-align: left;\n",
       "    }\n",
       "\n",
       "    .dataframe tbody tr th {\n",
       "        vertical-align: top;\n",
       "    }\n",
       "</style>\n",
       "<table border=\"1\" class=\"dataframe\">\n",
       "  <thead>\n",
       "    <tr style=\"text-align: right;\">\n",
       "      <th></th>\n",
       "      <th>ID</th>\n",
       "      <th>target</th>\n",
       "      <th>v110</th>\n",
       "      <th>v79</th>\n",
       "      <th>v75</th>\n",
       "      <th>v74</th>\n",
       "      <th>v72</th>\n",
       "      <th>v71</th>\n",
       "      <th>v129</th>\n",
       "      <th>v66</th>\n",
       "      <th>v62</th>\n",
       "      <th>v47</th>\n",
       "      <th>v38</th>\n",
       "      <th>v24</th>\n",
       "      <th>v107</th>\n",
       "      <th>v91</th>\n",
       "      <th>v52</th>\n",
       "      <th>v14</th>\n",
       "      <th>v114</th>\n",
       "      <th>v125</th>\n",
       "    </tr>\n",
       "  </thead>\n",
       "  <tbody>\n",
       "    <tr>\n",
       "      <th>0</th>\n",
       "      <td>3</td>\n",
       "      <td>1</td>\n",
       "      <td>1</td>\n",
       "      <td>4</td>\n",
       "      <td>3</td>\n",
       "      <td>1</td>\n",
       "      <td>1</td>\n",
       "      <td>5</td>\n",
       "      <td>0</td>\n",
       "      <td>2</td>\n",
       "      <td>1</td>\n",
       "      <td>2</td>\n",
       "      <td>0</td>\n",
       "      <td>2</td>\n",
       "      <td>5</td>\n",
       "      <td>1</td>\n",
       "      <td>7</td>\n",
       "      <td>11.636387</td>\n",
       "      <td>15.634907</td>\n",
       "      <td>22</td>\n",
       "    </tr>\n",
       "    <tr>\n",
       "      <th>1</th>\n",
       "      <td>4</td>\n",
       "      <td>1</td>\n",
       "      <td>0</td>\n",
       "      <td>3</td>\n",
       "      <td>3</td>\n",
       "      <td>1</td>\n",
       "      <td>2</td>\n",
       "      <td>5</td>\n",
       "      <td>0</td>\n",
       "      <td>0</td>\n",
       "      <td>2</td>\n",
       "      <td>4</td>\n",
       "      <td>0</td>\n",
       "      <td>2</td>\n",
       "      <td>2</td>\n",
       "      <td>2</td>\n",
       "      <td>7</td>\n",
       "      <td>11.636386</td>\n",
       "      <td>10.308044</td>\n",
       "      <td>7</td>\n",
       "    </tr>\n",
       "    <tr>\n",
       "      <th>2</th>\n",
       "      <td>5</td>\n",
       "      <td>1</td>\n",
       "      <td>1</td>\n",
       "      <td>4</td>\n",
       "      <td>1</td>\n",
       "      <td>1</td>\n",
       "      <td>3</td>\n",
       "      <td>1</td>\n",
       "      <td>2</td>\n",
       "      <td>0</td>\n",
       "      <td>1</td>\n",
       "      <td>2</td>\n",
       "      <td>0</td>\n",
       "      <td>4</td>\n",
       "      <td>3</td>\n",
       "      <td>7</td>\n",
       "      <td>6</td>\n",
       "      <td>9.603542</td>\n",
       "      <td>11.205561</td>\n",
       "      <td>6</td>\n",
       "    </tr>\n",
       "    <tr>\n",
       "      <th>3</th>\n",
       "      <td>6</td>\n",
       "      <td>1</td>\n",
       "      <td>1</td>\n",
       "      <td>1</td>\n",
       "      <td>3</td>\n",
       "      <td>1</td>\n",
       "      <td>2</td>\n",
       "      <td>5</td>\n",
       "      <td>1</td>\n",
       "      <td>0</td>\n",
       "      <td>1</td>\n",
       "      <td>2</td>\n",
       "      <td>0</td>\n",
       "      <td>3</td>\n",
       "      <td>2</td>\n",
       "      <td>2</td>\n",
       "      <td>8</td>\n",
       "      <td>14.094723</td>\n",
       "      <td>13.777666</td>\n",
       "      <td>65</td>\n",
       "    </tr>\n",
       "    <tr>\n",
       "      <th>4</th>\n",
       "      <td>8</td>\n",
       "      <td>1</td>\n",
       "      <td>0</td>\n",
       "      <td>2</td>\n",
       "      <td>3</td>\n",
       "      <td>1</td>\n",
       "      <td>1</td>\n",
       "      <td>5</td>\n",
       "      <td>0</td>\n",
       "      <td>2</td>\n",
       "      <td>1</td>\n",
       "      <td>8</td>\n",
       "      <td>0</td>\n",
       "      <td>4</td>\n",
       "      <td>3</td>\n",
       "      <td>7</td>\n",
       "      <td>8</td>\n",
       "      <td>10.991098</td>\n",
       "      <td>14.097099</td>\n",
       "      <td>90</td>\n",
       "    </tr>\n",
       "    <tr>\n",
       "      <th>5</th>\n",
       "      <td>9</td>\n",
       "      <td>0</td>\n",
       "      <td>0</td>\n",
       "      <td>8</td>\n",
       "      <td>3</td>\n",
       "      <td>1</td>\n",
       "      <td>1</td>\n",
       "      <td>5</td>\n",
       "      <td>0</td>\n",
       "      <td>0</td>\n",
       "      <td>1</td>\n",
       "      <td>8</td>\n",
       "      <td>0</td>\n",
       "      <td>0</td>\n",
       "      <td>3</td>\n",
       "      <td>7</td>\n",
       "      <td>11</td>\n",
       "      <td>11.916255</td>\n",
       "      <td>15.750502</td>\n",
       "      <td>88</td>\n",
       "    </tr>\n",
       "    <tr>\n",
       "      <th>6</th>\n",
       "      <td>12</td>\n",
       "      <td>0</td>\n",
       "      <td>1</td>\n",
       "      <td>4</td>\n",
       "      <td>3</td>\n",
       "      <td>1</td>\n",
       "      <td>2</td>\n",
       "      <td>5</td>\n",
       "      <td>0</td>\n",
       "      <td>0</td>\n",
       "      <td>2</td>\n",
       "      <td>2</td>\n",
       "      <td>0</td>\n",
       "      <td>4</td>\n",
       "      <td>2</td>\n",
       "      <td>2</td>\n",
       "      <td>1</td>\n",
       "      <td>12.148604</td>\n",
       "      <td>9.010082</td>\n",
       "      <td>38</td>\n",
       "    </tr>\n",
       "    <tr>\n",
       "      <th>7</th>\n",
       "      <td>21</td>\n",
       "      <td>1</td>\n",
       "      <td>0</td>\n",
       "      <td>2</td>\n",
       "      <td>3</td>\n",
       "      <td>1</td>\n",
       "      <td>2</td>\n",
       "      <td>5</td>\n",
       "      <td>0</td>\n",
       "      <td>2</td>\n",
       "      <td>2</td>\n",
       "      <td>8</td>\n",
       "      <td>0</td>\n",
       "      <td>3</td>\n",
       "      <td>5</td>\n",
       "      <td>1</td>\n",
       "      <td>3</td>\n",
       "      <td>12.793945</td>\n",
       "      <td>18.705610</td>\n",
       "      <td>53</td>\n",
       "    </tr>\n",
       "    <tr>\n",
       "      <th>8</th>\n",
       "      <td>22</td>\n",
       "      <td>0</td>\n",
       "      <td>2</td>\n",
       "      <td>15</td>\n",
       "      <td>1</td>\n",
       "      <td>1</td>\n",
       "      <td>0</td>\n",
       "      <td>1</td>\n",
       "      <td>0</td>\n",
       "      <td>1</td>\n",
       "      <td>0</td>\n",
       "      <td>3</td>\n",
       "      <td>0</td>\n",
       "      <td>4</td>\n",
       "      <td>4</td>\n",
       "      <td>3</td>\n",
       "      <td>8</td>\n",
       "      <td>12.603403</td>\n",
       "      <td>12.536835</td>\n",
       "      <td>83</td>\n",
       "    </tr>\n",
       "    <tr>\n",
       "      <th>9</th>\n",
       "      <td>23</td>\n",
       "      <td>1</td>\n",
       "      <td>0</td>\n",
       "      <td>2</td>\n",
       "      <td>3</td>\n",
       "      <td>1</td>\n",
       "      <td>3</td>\n",
       "      <td>5</td>\n",
       "      <td>0</td>\n",
       "      <td>0</td>\n",
       "      <td>3</td>\n",
       "      <td>8</td>\n",
       "      <td>0</td>\n",
       "      <td>2</td>\n",
       "      <td>5</td>\n",
       "      <td>1</td>\n",
       "      <td>1</td>\n",
       "      <td>13.790046</td>\n",
       "      <td>13.434123</td>\n",
       "      <td>69</td>\n",
       "    </tr>\n",
       "  </tbody>\n",
       "</table>\n",
       "</div>"
      ],
      "text/plain": [
       "   ID  target  v110  v79  v75  v74  v72  v71  v129  v66  v62  v47  v38  v24  \\\n",
       "0   3       1     1    4    3    1    1    5     0    2    1    2    0    2   \n",
       "1   4       1     0    3    3    1    2    5     0    0    2    4    0    2   \n",
       "2   5       1     1    4    1    1    3    1     2    0    1    2    0    4   \n",
       "3   6       1     1    1    3    1    2    5     1    0    1    2    0    3   \n",
       "4   8       1     0    2    3    1    1    5     0    2    1    8    0    4   \n",
       "5   9       0     0    8    3    1    1    5     0    0    1    8    0    0   \n",
       "6  12       0     1    4    3    1    2    5     0    0    2    2    0    4   \n",
       "7  21       1     0    2    3    1    2    5     0    2    2    8    0    3   \n",
       "8  22       0     2   15    1    1    0    1     0    1    0    3    0    4   \n",
       "9  23       1     0    2    3    1    3    5     0    0    3    8    0    2   \n",
       "\n",
       "   v107  v91  v52        v14       v114  v125  \n",
       "0     5    1    7  11.636387  15.634907    22  \n",
       "1     2    2    7  11.636386  10.308044     7  \n",
       "2     3    7    6   9.603542  11.205561     6  \n",
       "3     2    2    8  14.094723  13.777666    65  \n",
       "4     3    7    8  10.991098  14.097099    90  \n",
       "5     3    7   11  11.916255  15.750502    88  \n",
       "6     2    2    1  12.148604   9.010082    38  \n",
       "7     5    1    3  12.793945  18.705610    53  \n",
       "8     4    3    8  12.603403  12.536835    83  \n",
       "9     5    1    1  13.790046  13.434123    69  "
      ]
     },
     "execution_count": 17,
     "metadata": {},
     "output_type": "execute_result"
    }
   ],
   "source": [
    "from sklearn import preprocessing\n",
    "le = preprocessing.LabelEncoder()\n",
    "\n",
    "for c in df_clusters.columns:\n",
    "    if df_clusters[c].dtype == 'O':\n",
    "        le.fit(df_clusters[c])\n",
    "        le.classes_\n",
    "        df_train_clusters[c]=le.transform(df_train_clusters[c])\n",
    "        df_test_clusters[c]=le.transform(df_test_clusters[c])\n",
    "df_train_clusters.fillna(0)\n",
    "df_test_clusters.fillna(0)\n",
    "df_train_clusters.head(10)"
   ]
  },
  {
   "cell_type": "code",
   "execution_count": 18,
   "metadata": {},
   "outputs": [
    {
     "data": {
      "text/plain": [
       "ID         0\n",
       "v52        0\n",
       "v91        0\n",
       "v107       0\n",
       "v24        0\n",
       "v38        0\n",
       "v47        0\n",
       "v62        0\n",
       "v66        0\n",
       "v71        0\n",
       "v72        0\n",
       "v74        0\n",
       "v75        0\n",
       "v79        0\n",
       "v110       0\n",
       "target     0\n",
       "v129       0\n",
       "v125       0\n",
       "v14        4\n",
       "v114      30\n",
       "dtype: int64"
      ]
     },
     "execution_count": 18,
     "metadata": {},
     "output_type": "execute_result"
    }
   ],
   "source": [
    "df_train_clusters.isnull().sum().sort_values()"
   ]
  },
  {
   "cell_type": "code",
   "execution_count": 19,
   "metadata": {},
   "outputs": [
    {
     "data": {
      "text/plain": [
       "((114321, 16), (114393, 16))"
      ]
     },
     "execution_count": 19,
     "metadata": {},
     "output_type": "execute_result"
    }
   ],
   "source": [
    "X=np.array(df_train_clusters.drop(['ID','target','v14','v114'],1))\n",
    "X_test=np.array(df_test_clusters.drop(['ID','v14','v114'],1))\n",
    "X.shape,X_test.shape"
   ]
  },
  {
   "cell_type": "code",
   "execution_count": 20,
   "metadata": {},
   "outputs": [
    {
     "data": {
      "image/png": "[encoded data removed]",
      "text/plain": [
       "<Figure size 432x288 with 1 Axes>"
      ]
     },
     "metadata": {},
     "output_type": "display_data"
    }
   ],
   "source": [
    "from sklearn.cluster import KMeans\n",
    "Nc = range(1, 20)\n",
    "kmeans = [KMeans(n_clusters=i) for i in Nc]\n",
    "kmeans\n",
    "score = [kmeans[i].fit(X).score(X) for i in range(len(kmeans))]\n",
    "score\n",
    "plt.plot(Nc,score)\n",
    "plt.xlabel('Number of Clusters')\n",
    "plt.ylabel('Score')\n",
    "plt.title('Elbow Curve')\n",
    "plt.show()"
   ]
  },
  {
   "cell_type": "code",
   "execution_count": 21,
   "metadata": {
    "collapsed": true
   },
   "outputs": [],
   "source": [
    "kmeans = KMeans(n_clusters=5, random_state=0).fit(X)\n",
    "df_train['cluster']=kmeans.labels_\n",
    "df_test['cluster']=kmeans.predict(X_test)"
   ]
  },
  {
   "cell_type": "code",
   "execution_count": 22,
   "metadata": {},
   "outputs": [
    {
     "data": {
      "text/plain": [
       "dtype('int64')"
      ]
     },
     "execution_count": 22,
     "metadata": {},
     "output_type": "execute_result"
    }
   ],
   "source": [
    "df_train['ID'].dtypes"
   ]
  },
  {
   "cell_type": "code",
   "execution_count": 23,
   "metadata": {
    "collapsed": true
   },
   "outputs": [],
   "source": [
    "import statistics\n",
    "\n",
    "def fillna_qua(df,column,index):\n",
    "    quality = df['cluster'][index]\n",
    "    if df[column].dtype == 'O' or df[column].dtype == 'int64':\n",
    "        m=statistics.mode(df[df['cluster']==quality][column])\n",
    "    else:\n",
    "        m=df[df['cluster']==quality][column].mean()\n",
    "    df[column][index]=m"
   ]
  },
  {
   "cell_type": "code",
   "execution_count": 24,
   "metadata": {
    "collapsed": true,
    "scrolled": true
   },
   "outputs": [],
   "source": [
    "import statistics\n",
    "def imputar(df):\n",
    "    cl=[0,1,2,3,4]\n",
    "    for column in df.columns:\n",
    "\n",
    "        if df[column].isnull().any() == True:\n",
    "            imp=[]\n",
    "\n",
    "            if df[column].dtype == 'O' or df[column].dtype == 'int64':\n",
    "                for i in cl:\n",
    "                    imp.append(statistics.mode(df[df['cluster']==i][column]))\n",
    "\n",
    "            else:\n",
    "                for i in cl:\n",
    "                    imp.append(df[df['cluster']==i][column].mean())\n",
    "                    \n",
    "            d=dict(zip(cl,imp))\n",
    "\n",
    "            for j in df[df[column].isnull()].index.tolist():\n",
    "                q=df['cluster'][j]\n",
    "                df[column][j]=d[q]"
   ]
  },
  {
   "cell_type": "code",
   "execution_count": 25,
   "metadata": {
    "collapsed": true
   },
   "outputs": [],
   "source": [
    "from scipy import stats\n",
    "def imputarb(df):\n",
    "    df0=df[df['cluster']==0]\n",
    "    df1=df[df['cluster']==1]\n",
    "    df2=df[df['cluster']==2]\n",
    "    df3=df[df['cluster']==3]\n",
    "    df4=df[df['cluster']==4]\n",
    "    dfs=[df0,df1,df2,df3,df4]\n",
    "    \n",
    "    for d in dfs:\n",
    "        for c in d.columns:\n",
    "            if d[c].isnull().any() == True:\n",
    "                \n",
    "                if d[c].dtype == 'O' or d[c].dtype == 'int64':\n",
    "                    \n",
    "                    d[c].fillna(stats.mode(d[c], nan_policy='omit').mode[0],inplace=True)\n",
    "                else:\n",
    "                    d[c].fillna(d[c].mean(),inplace=True)\n",
    "    ndf=pd.concat(dfs)\n",
    "    return ndf"
   ]
  },
  {
   "cell_type": "code",
   "execution_count": 26,
   "metadata": {},
   "outputs": [
    {
     "name": "stderr",
     "output_type": "stream",
     "text": [
      "/home/ulises/anaconda2/lib/python2.7/site-packages/pandas/core/generic.py:3549: SettingWithCopyWarning: \n",
      "A value is trying to be set on a copy of a slice from a DataFrame\n",
      "\n",
      "See the caveats in the documentation: http://pandas.pydata.org/pandas-docs/stable/indexing.html#indexing-view-versus-copy\n",
      "  self._update_inplace(new_data)\n",
      "/home/ulises/anaconda2/lib/python2.7/site-packages/scipy/stats/stats.py:253: RuntimeWarning: The input array could not be properly checked for nan values. nan values will be ignored.\n",
      "  \"values. nan values will be ignored.\", RuntimeWarning)\n"
     ]
    }
   ],
   "source": [
    "df_train=imputarb(df_train)\n",
    "df_test=imputarb(df_test)"
   ]
  },
  {
   "cell_type": "code",
   "execution_count": 27,
   "metadata": {},
   "outputs": [
    {
     "data": {
      "text/html": [
       "<div>\n",
       "<style>\n",
       "    .dataframe thead tr:only-child th {\n",
       "        text-align: right;\n",
       "    }\n",
       "\n",
       "    .dataframe thead th {\n",
       "        text-align: left;\n",
       "    }\n",
       "\n",
       "    .dataframe tbody tr th {\n",
       "        vertical-align: top;\n",
       "    }\n",
       "</style>\n",
       "<table border=\"1\" class=\"dataframe\">\n",
       "  <thead>\n",
       "    <tr style=\"text-align: right;\">\n",
       "      <th></th>\n",
       "      <th>ID</th>\n",
       "      <th>target</th>\n",
       "      <th>v1</th>\n",
       "      <th>v2</th>\n",
       "      <th>v3</th>\n",
       "      <th>v4</th>\n",
       "      <th>v5</th>\n",
       "      <th>v6</th>\n",
       "      <th>v7</th>\n",
       "      <th>v8</th>\n",
       "      <th>...</th>\n",
       "      <th>v123</th>\n",
       "      <th>v124</th>\n",
       "      <th>v125</th>\n",
       "      <th>v126</th>\n",
       "      <th>v127</th>\n",
       "      <th>v128</th>\n",
       "      <th>v129</th>\n",
       "      <th>v130</th>\n",
       "      <th>v131</th>\n",
       "      <th>cluster</th>\n",
       "    </tr>\n",
       "  </thead>\n",
       "  <tbody>\n",
       "    <tr>\n",
       "      <th>3</th>\n",
       "      <td>6</td>\n",
       "      <td>1</td>\n",
       "      <td>0.797415</td>\n",
       "      <td>8.304757</td>\n",
       "      <td>C</td>\n",
       "      <td>4.225930</td>\n",
       "      <td>11.627438</td>\n",
       "      <td>2.097700</td>\n",
       "      <td>1.987549</td>\n",
       "      <td>0.171947</td>\n",
       "      <td>...</td>\n",
       "      <td>1.812795</td>\n",
       "      <td>2.267384e-03</td>\n",
       "      <td>CJ</td>\n",
       "      <td>1.415230</td>\n",
       "      <td>2.954381</td>\n",
       "      <td>1.990847</td>\n",
       "      <td>1</td>\n",
       "      <td>1.677108</td>\n",
       "      <td>1.034483</td>\n",
       "      <td>0</td>\n",
       "    </tr>\n",
       "    <tr>\n",
       "      <th>9</th>\n",
       "      <td>23</td>\n",
       "      <td>1</td>\n",
       "      <td>1.144802</td>\n",
       "      <td>5.880606</td>\n",
       "      <td>C</td>\n",
       "      <td>3.244469</td>\n",
       "      <td>9.538384</td>\n",
       "      <td>2.500001</td>\n",
       "      <td>1.559405</td>\n",
       "      <td>0.412610</td>\n",
       "      <td>...</td>\n",
       "      <td>4.896617</td>\n",
       "      <td>8.943653e-03</td>\n",
       "      <td>E</td>\n",
       "      <td>1.344550</td>\n",
       "      <td>1.601176</td>\n",
       "      <td>1.928009</td>\n",
       "      <td>0</td>\n",
       "      <td>3.174603</td>\n",
       "      <td>1.000000</td>\n",
       "      <td>0</td>\n",
       "    </tr>\n",
       "    <tr>\n",
       "      <th>18</th>\n",
       "      <td>35</td>\n",
       "      <td>1</td>\n",
       "      <td>1.570613</td>\n",
       "      <td>7.723675</td>\n",
       "      <td>C</td>\n",
       "      <td>4.169811</td>\n",
       "      <td>8.933238</td>\n",
       "      <td>2.380788</td>\n",
       "      <td>2.441886</td>\n",
       "      <td>1.269254</td>\n",
       "      <td>...</td>\n",
       "      <td>3.559955</td>\n",
       "      <td>6.546226e-01</td>\n",
       "      <td>E</td>\n",
       "      <td>1.648098</td>\n",
       "      <td>2.971780</td>\n",
       "      <td>2.188860</td>\n",
       "      <td>1</td>\n",
       "      <td>1.869176</td>\n",
       "      <td>1.769757</td>\n",
       "      <td>0</td>\n",
       "    </tr>\n",
       "    <tr>\n",
       "      <th>26</th>\n",
       "      <td>51</td>\n",
       "      <td>1</td>\n",
       "      <td>1.570613</td>\n",
       "      <td>7.723675</td>\n",
       "      <td>C</td>\n",
       "      <td>4.169811</td>\n",
       "      <td>8.933238</td>\n",
       "      <td>2.380788</td>\n",
       "      <td>2.441886</td>\n",
       "      <td>1.269254</td>\n",
       "      <td>...</td>\n",
       "      <td>3.559955</td>\n",
       "      <td>6.546226e-01</td>\n",
       "      <td>J</td>\n",
       "      <td>1.648098</td>\n",
       "      <td>2.971780</td>\n",
       "      <td>2.188860</td>\n",
       "      <td>0</td>\n",
       "      <td>1.869176</td>\n",
       "      <td>1.769757</td>\n",
       "      <td>0</td>\n",
       "    </tr>\n",
       "    <tr>\n",
       "      <th>27</th>\n",
       "      <td>52</td>\n",
       "      <td>1</td>\n",
       "      <td>0.292028</td>\n",
       "      <td>12.715811</td>\n",
       "      <td>C</td>\n",
       "      <td>4.999724</td>\n",
       "      <td>5.998656</td>\n",
       "      <td>2.020520</td>\n",
       "      <td>2.620363</td>\n",
       "      <td>0.058548</td>\n",
       "      <td>...</td>\n",
       "      <td>1.697821</td>\n",
       "      <td>7.351065e-03</td>\n",
       "      <td>N</td>\n",
       "      <td>1.491973</td>\n",
       "      <td>4.202842</td>\n",
       "      <td>1.306053</td>\n",
       "      <td>0</td>\n",
       "      <td>0.722892</td>\n",
       "      <td>0.666666</td>\n",
       "      <td>0</td>\n",
       "    </tr>\n",
       "    <tr>\n",
       "      <th>30</th>\n",
       "      <td>57</td>\n",
       "      <td>1</td>\n",
       "      <td>1.687572</td>\n",
       "      <td>6.791091</td>\n",
       "      <td>C</td>\n",
       "      <td>5.324003</td>\n",
       "      <td>8.627336</td>\n",
       "      <td>3.192703</td>\n",
       "      <td>3.705815</td>\n",
       "      <td>2.244315</td>\n",
       "      <td>...</td>\n",
       "      <td>1.333660</td>\n",
       "      <td>1.936764e+00</td>\n",
       "      <td>M</td>\n",
       "      <td>2.861548</td>\n",
       "      <td>3.944556</td>\n",
       "      <td>1.693105</td>\n",
       "      <td>2</td>\n",
       "      <td>0.480001</td>\n",
       "      <td>4.102564</td>\n",
       "      <td>0</td>\n",
       "    </tr>\n",
       "    <tr>\n",
       "      <th>43</th>\n",
       "      <td>84</td>\n",
       "      <td>0</td>\n",
       "      <td>1.570613</td>\n",
       "      <td>7.723675</td>\n",
       "      <td>C</td>\n",
       "      <td>4.169811</td>\n",
       "      <td>8.933238</td>\n",
       "      <td>2.380788</td>\n",
       "      <td>2.441886</td>\n",
       "      <td>1.269254</td>\n",
       "      <td>...</td>\n",
       "      <td>3.559955</td>\n",
       "      <td>6.546226e-01</td>\n",
       "      <td>F</td>\n",
       "      <td>1.648098</td>\n",
       "      <td>2.971780</td>\n",
       "      <td>2.188860</td>\n",
       "      <td>0</td>\n",
       "      <td>1.869176</td>\n",
       "      <td>1.769757</td>\n",
       "      <td>0</td>\n",
       "    </tr>\n",
       "    <tr>\n",
       "      <th>48</th>\n",
       "      <td>93</td>\n",
       "      <td>0</td>\n",
       "      <td>1.570613</td>\n",
       "      <td>7.723675</td>\n",
       "      <td>C</td>\n",
       "      <td>4.169811</td>\n",
       "      <td>8.933238</td>\n",
       "      <td>2.380788</td>\n",
       "      <td>2.441886</td>\n",
       "      <td>1.269254</td>\n",
       "      <td>...</td>\n",
       "      <td>3.559955</td>\n",
       "      <td>6.546226e-01</td>\n",
       "      <td>L</td>\n",
       "      <td>1.648098</td>\n",
       "      <td>2.971780</td>\n",
       "      <td>2.188860</td>\n",
       "      <td>0</td>\n",
       "      <td>1.869176</td>\n",
       "      <td>1.769757</td>\n",
       "      <td>0</td>\n",
       "    </tr>\n",
       "    <tr>\n",
       "      <th>50</th>\n",
       "      <td>95</td>\n",
       "      <td>1</td>\n",
       "      <td>1.570613</td>\n",
       "      <td>7.723675</td>\n",
       "      <td>C</td>\n",
       "      <td>4.169811</td>\n",
       "      <td>8.933238</td>\n",
       "      <td>2.380788</td>\n",
       "      <td>2.441886</td>\n",
       "      <td>1.269254</td>\n",
       "      <td>...</td>\n",
       "      <td>3.559955</td>\n",
       "      <td>6.546226e-01</td>\n",
       "      <td>D</td>\n",
       "      <td>1.648098</td>\n",
       "      <td>2.971780</td>\n",
       "      <td>2.188860</td>\n",
       "      <td>2</td>\n",
       "      <td>1.869176</td>\n",
       "      <td>1.769757</td>\n",
       "      <td>0</td>\n",
       "    </tr>\n",
       "    <tr>\n",
       "      <th>54</th>\n",
       "      <td>105</td>\n",
       "      <td>1</td>\n",
       "      <td>1.488601</td>\n",
       "      <td>7.036058</td>\n",
       "      <td>C</td>\n",
       "      <td>3.351333</td>\n",
       "      <td>5.151311</td>\n",
       "      <td>1.662942</td>\n",
       "      <td>2.641931</td>\n",
       "      <td>0.214163</td>\n",
       "      <td>...</td>\n",
       "      <td>3.141291</td>\n",
       "      <td>-8.541137e-07</td>\n",
       "      <td>CJ</td>\n",
       "      <td>1.772620</td>\n",
       "      <td>3.394613</td>\n",
       "      <td>1.066689</td>\n",
       "      <td>0</td>\n",
       "      <td>1.610829</td>\n",
       "      <td>1.512605</td>\n",
       "      <td>0</td>\n",
       "    </tr>\n",
       "  </tbody>\n",
       "</table>\n",
       "<p>10 rows × 134 columns</p>\n",
       "</div>"
      ],
      "text/plain": [
       "     ID  target        v1         v2 v3        v4         v5        v6  \\\n",
       "3     6       1  0.797415   8.304757  C  4.225930  11.627438  2.097700   \n",
       "9    23       1  1.144802   5.880606  C  3.244469   9.538384  2.500001   \n",
       "18   35       1  1.570613   7.723675  C  4.169811   8.933238  2.380788   \n",
       "26   51       1  1.570613   7.723675  C  4.169811   8.933238  2.380788   \n",
       "27   52       1  0.292028  12.715811  C  4.999724   5.998656  2.020520   \n",
       "30   57       1  1.687572   6.791091  C  5.324003   8.627336  3.192703   \n",
       "43   84       0  1.570613   7.723675  C  4.169811   8.933238  2.380788   \n",
       "48   93       0  1.570613   7.723675  C  4.169811   8.933238  2.380788   \n",
       "50   95       1  1.570613   7.723675  C  4.169811   8.933238  2.380788   \n",
       "54  105       1  1.488601   7.036058  C  3.351333   5.151311  1.662942   \n",
       "\n",
       "          v7        v8   ...         v123          v124  v125      v126  \\\n",
       "3   1.987549  0.171947   ...     1.812795  2.267384e-03    CJ  1.415230   \n",
       "9   1.559405  0.412610   ...     4.896617  8.943653e-03     E  1.344550   \n",
       "18  2.441886  1.269254   ...     3.559955  6.546226e-01     E  1.648098   \n",
       "26  2.441886  1.269254   ...     3.559955  6.546226e-01     J  1.648098   \n",
       "27  2.620363  0.058548   ...     1.697821  7.351065e-03     N  1.491973   \n",
       "30  3.705815  2.244315   ...     1.333660  1.936764e+00     M  2.861548   \n",
       "43  2.441886  1.269254   ...     3.559955  6.546226e-01     F  1.648098   \n",
       "48  2.441886  1.269254   ...     3.559955  6.546226e-01     L  1.648098   \n",
       "50  2.441886  1.269254   ...     3.559955  6.546226e-01     D  1.648098   \n",
       "54  2.641931  0.214163   ...     3.141291 -8.541137e-07    CJ  1.772620   \n",
       "\n",
       "        v127      v128  v129      v130      v131  cluster  \n",
       "3   2.954381  1.990847     1  1.677108  1.034483        0  \n",
       "9   1.601176  1.928009     0  3.174603  1.000000        0  \n",
       "18  2.971780  2.188860     1  1.869176  1.769757        0  \n",
       "26  2.971780  2.188860     0  1.869176  1.769757        0  \n",
       "27  4.202842  1.306053     0  0.722892  0.666666        0  \n",
       "30  3.944556  1.693105     2  0.480001  4.102564        0  \n",
       "43  2.971780  2.188860     0  1.869176  1.769757        0  \n",
       "48  2.971780  2.188860     0  1.869176  1.769757        0  \n",
       "50  2.971780  2.188860     2  1.869176  1.769757        0  \n",
       "54  3.394613  1.066689     0  1.610829  1.512605        0  \n",
       "\n",
       "[10 rows x 134 columns]"
      ]
     },
     "execution_count": 27,
     "metadata": {},
     "output_type": "execute_result"
    }
   ],
   "source": [
    "df_train.head(10)"
   ]
  },
  {
   "cell_type": "code",
   "execution_count": 28,
   "metadata": {
    "collapsed": true
   },
   "outputs": [],
   "source": [
    "df=pd.concat([df_train,df_test])"
   ]
  },
  {
   "cell_type": "markdown",
   "metadata": {},
   "source": [
    "## Seleccion de variables numericas"
   ]
  },
  {
   "cell_type": "code",
   "execution_count": 29,
   "metadata": {
    "collapsed": true
   },
   "outputs": [],
   "source": [
    "float_v=[]\n",
    "for c in df_train.columns:\n",
    "    if df_train[c].dtype=='float64':\n",
    "        float_v.append(c)"
   ]
  },
  {
   "cell_type": "code",
   "execution_count": 30,
   "metadata": {
    "collapsed": true
   },
   "outputs": [],
   "source": [
    "X=df_train[float_v]\n",
    "y=df_train['target']"
   ]
  },
  {
   "cell_type": "code",
   "execution_count": 31,
   "metadata": {},
   "outputs": [
    {
     "name": "stderr",
     "output_type": "stream",
     "text": [
      "/home/ulises/anaconda2/lib/python2.7/site-packages/sklearn/linear_model/coordinate_descent.py:484: ConvergenceWarning: Objective did not converge. You might want to increase the number of iterations. Fitting data with very small alpha may cause precision problems.\n",
      "  ConvergenceWarning)\n"
     ]
    },
    {
     "name": "stdout",
     "output_type": "stream",
     "text": [
      "Número óptimo de características:39\n",
      "Desempeño mediante la regularización Lasso: 0.067359\n"
     ]
    }
   ],
   "source": [
    "from sklearn.linear_model import RidgeCV, LassoCV, Ridge, Lasso\n",
    "reg = LassoCV()\n",
    "reg.fit(X, y)\n",
    "coef = pd.Series(reg.coef_, index = X.columns)\n",
    "print(\"Número óptimo de características:\" + str(sum(coef != 0)))\n",
    "print(\"Desempeño mediante la regularización Lasso: %f\" %reg.score(X,y))"
   ]
  },
  {
   "cell_type": "code",
   "execution_count": 32,
   "metadata": {
    "collapsed": true
   },
   "outputs": [],
   "source": [
    "imp_coef = abs(coef).sort_values(ascending=False).head(39).index.tolist()"
   ]
  },
  {
   "cell_type": "markdown",
   "metadata": {},
   "source": [
    "## Seleccion de caracteristicas categoricas"
   ]
  },
  {
   "cell_type": "code",
   "execution_count": 33,
   "metadata": {
    "collapsed": true
   },
   "outputs": [],
   "source": [
    "cate=[]\n",
    "for c in df_train.columns:\n",
    "    if df_train[c].dtype == 'O' or df_train[c].dtype == 'int64':\n",
    "        cate.append(c)\n",
    "\n",
    "from sklearn import preprocessing\n",
    "le = preprocessing.LabelEncoder()\n",
    "\n",
    "for c in df.columns:\n",
    "    if df[c].dtype == 'O':\n",
    "        le.fit(df[c])\n",
    "        le.classes_\n",
    "        df_train[c]=le.transform(df_train[c])\n",
    "        df_test[c]=le.transform(df_test[c])\n"
   ]
  },
  {
   "cell_type": "code",
   "execution_count": 34,
   "metadata": {},
   "outputs": [
    {
     "data": {
      "text/plain": [
       "(114321, 23)"
      ]
     },
     "execution_count": 34,
     "metadata": {},
     "output_type": "execute_result"
    }
   ],
   "source": [
    "X=df_train[cate].drop(['ID','target'],1)\n",
    "y=df_train['target']\n",
    "X.shape"
   ]
  },
  {
   "cell_type": "code",
   "execution_count": 35,
   "metadata": {
    "collapsed": true
   },
   "outputs": [],
   "source": [
    "from sklearn.model_selection import train_test_split\n",
    "X_train, X_test, y_train, y_test = train_test_split(X, y, test_size = 0.25, stratify=y)"
   ]
  },
  {
   "cell_type": "code",
   "execution_count": 36,
   "metadata": {
    "collapsed": true
   },
   "outputs": [],
   "source": [
    "from sklearn.feature_selection import SelectKBest, chi2, mutual_info_classif\n",
    "def select_features(X_train, y_train, X_test):\n",
    "    fs = SelectKBest(score_func=chi2, k='all')\n",
    "    fs.fit(X_train, y_train)\n",
    "    X_train_fs = fs.transform(X_train)\n",
    "    X_test_fs = fs.transform(X_test)\n",
    "    return X_train_fs, X_test_fs, fs"
   ]
  },
  {
   "cell_type": "code",
   "execution_count": 37,
   "metadata": {
    "collapsed": true
   },
   "outputs": [],
   "source": [
    "# Selección de características con chi-squared\n",
    "X_train_fs, X_test_fs, fs = select_features(X_train, y_train, X_test)"
   ]
  },
  {
   "cell_type": "code",
   "execution_count": 38,
   "metadata": {},
   "outputs": [
    {
     "data": {
      "text/plain": [
       "(85740, 23)"
      ]
     },
     "execution_count": 38,
     "metadata": {},
     "output_type": "execute_result"
    }
   ],
   "source": [
    "X_train_fs.shape"
   ]
  },
  {
   "cell_type": "code",
   "execution_count": 39,
   "metadata": {},
   "outputs": [
    {
     "name": "stdout",
     "output_type": "stream",
     "text": [
      "Característica 0: 0.138897\n",
      "Característica 1: 4160.029392\n",
      "Característica 2: 8.806947\n",
      "Característica 3: 54.035014\n",
      "Característica 4: 2557.288898\n",
      "Característica 5: 1243.084515\n",
      "Característica 6: 3255.887801\n",
      "Característica 7: 0.171231\n",
      "Característica 8: 5449.590379\n",
      "Característica 9: 366.666891\n",
      "Característica 10: 412.462404\n",
      "Característica 11: 0.118144\n",
      "Característica 12: 286.206486\n",
      "Característica 13: 0.462658\n",
      "Característica 14: 0.481758\n",
      "Característica 15: 317.009080\n",
      "Característica 16: 12.186913\n",
      "Característica 17: 30.160182\n",
      "Característica 18: 1134.800047\n",
      "Característica 19: 53.742009\n",
      "Característica 20: 49.788561\n",
      "Característica 21: 37.022262\n",
      "Característica 22: 2707.403058\n"
     ]
    },
    {
     "data": {
      "image/png": "[encoded data removed]",
      "text/plain": [
       "<Figure size 432x288 with 1 Axes>"
      ]
     },
     "metadata": {},
     "output_type": "display_data"
    }
   ],
   "source": [
    "for i in range(len(fs.scores_)):\n",
    "    print('Característica %d: %f' % (i, fs.scores_[i]))\n",
    "\n",
    "plt.bar([i for i in range(len(fs.scores_))], fs.scores_)\n",
    "plt.show()"
   ]
  },
  {
   "cell_type": "code",
   "execution_count": 40,
   "metadata": {
    "collapsed": true
   },
   "outputs": [],
   "source": [
    "best_cat=pd.DataFrame(zip(X_train.columns,fs.scores_),columns=['feature','score'])\n",
    "b_cat=best_cat.sort_values(by='score',ascending=False).head(7)['feature'].tolist()"
   ]
  },
  {
   "cell_type": "markdown",
   "metadata": {},
   "source": [
    "### Unir mejores caracteristicas continuas y categoricas"
   ]
  },
  {
   "cell_type": "code",
   "execution_count": 41,
   "metadata": {
    "collapsed": true
   },
   "outputs": [],
   "source": [
    "bf=b_cat+imp_coef"
   ]
  },
  {
   "cell_type": "markdown",
   "metadata": {},
   "source": [
    "### Muestreo con undersampling "
   ]
  },
  {
   "cell_type": "code",
   "execution_count": 42,
   "metadata": {},
   "outputs": [
    {
     "data": {
      "text/plain": [
       "1    0.761199\n",
       "0    0.238801\n",
       "Name: target, dtype: float64"
      ]
     },
     "execution_count": 42,
     "metadata": {},
     "output_type": "execute_result"
    }
   ],
   "source": [
    "df_train['target'].value_counts(normalize=True)"
   ]
  },
  {
   "cell_type": "code",
   "execution_count": 43,
   "metadata": {
    "collapsed": true
   },
   "outputs": [],
   "source": [
    "df_true = df_train[df_train['target'] == 0]\n",
    "df_false = df_train[df_train['target'] == 1]\n",
    "df_sampe = pd.concat([df_true, df_false.sample(df_true.shape[0])])"
   ]
  },
  {
   "cell_type": "code",
   "execution_count": 44,
   "metadata": {},
   "outputs": [
    {
     "data": {
      "text/plain": [
       "Index([u'ID', u'target', u'v1', u'v2', u'v3', u'v4', u'v5', u'v6', u'v7',\n",
       "       u'v8',\n",
       "       ...\n",
       "       u'v123', u'v124', u'v125', u'v126', u'v127', u'v128', u'v129', u'v130',\n",
       "       u'v131', u'cluster'],\n",
       "      dtype='object', length=134)"
      ]
     },
     "execution_count": 44,
     "metadata": {},
     "output_type": "execute_result"
    }
   ],
   "source": [
    "df_sampe.columns"
   ]
  },
  {
   "cell_type": "code",
   "execution_count": 45,
   "metadata": {},
   "outputs": [
    {
     "data": {
      "text/plain": [
       "((114321, 134), (54600, 134))"
      ]
     },
     "execution_count": 45,
     "metadata": {},
     "output_type": "execute_result"
    }
   ],
   "source": [
    "df_train.shape,df_sampe.shape"
   ]
  },
  {
   "cell_type": "markdown",
   "metadata": {},
   "source": [
    "## Modelado"
   ]
  },
  {
   "cell_type": "code",
   "execution_count": 46,
   "metadata": {
    "collapsed": true
   },
   "outputs": [],
   "source": [
    "X = np.array(df_sampe.drop(['ID','target'],1))\n",
    "y= np.array(df_sampe['target'])"
   ]
  },
  {
   "cell_type": "code",
   "execution_count": 47,
   "metadata": {
    "collapsed": true
   },
   "outputs": [],
   "source": [
    "from sklearn.model_selection import train_test_split\n",
    "X_train_, X_test_, y_train_, y_test_ = train_test_split(X, y, test_size = 0.45, stratify=y)\n",
    "X_train, X_test, y_train, y_test = train_test_split(X_train_, y_train_, test_size = 0.25, stratify=y_train_)"
   ]
  },
  {
   "cell_type": "code",
   "execution_count": 48,
   "metadata": {
    "collapsed": true
   },
   "outputs": [],
   "source": [
    "from sklearn.preprocessing import StandardScaler \n",
    "sc = StandardScaler()\n",
    "X_train = sc.fit_transform(X_train)\n",
    "X_test = sc.transform(X_test)"
   ]
  },
  {
   "cell_type": "code",
   "execution_count": 49,
   "metadata": {
    "collapsed": true
   },
   "outputs": [],
   "source": [
    "from sklearn import linear_model\n",
    "from sklearn.metrics import accuracy_score\n",
    "from sklearn import model_selection\n",
    "from sklearn.model_selection import GridSearchCV\n",
    "from sklearn.metrics import log_loss\n",
    "lit=[]"
   ]
  },
  {
   "cell_type": "code",
   "execution_count": 50,
   "metadata": {
    "collapsed": true
   },
   "outputs": [],
   "source": [
    "name='Logistic Regression'\n",
    "model = linear_model.LogisticRegression()\n",
    "model.fit(X_train,y_train)\n",
    "score=model.score(X_train,y_train)\n",
    "predictions = model.predict(X_test)\n",
    "asc=accuracy_score(y_test, predictions)\n",
    "\n",
    "lr=[name,score,asc]\n",
    "lit.append(lr)"
   ]
  },
  {
   "cell_type": "code",
   "execution_count": 51,
   "metadata": {
    "collapsed": true
   },
   "outputs": [],
   "source": [
    "from sklearn.neighbors import KNeighborsClassifier"
   ]
  },
  {
   "cell_type": "code",
   "execution_count": 52,
   "metadata": {
    "collapsed": true
   },
   "outputs": [],
   "source": [
    "name='KNeighbors'\n",
    "model = KNeighborsClassifier()\n",
    "model.fit(X_train,y_train)\n",
    "score=model.score(X_train,y_train)\n",
    "predictions = model.predict(X_test)\n",
    "asc=accuracy_score(y_test, predictions)\n",
    "\n",
    "lr=[name,score,asc]\n",
    "lit.append(lr)\n"
   ]
  },
  {
   "cell_type": "code",
   "execution_count": 53,
   "metadata": {
    "collapsed": true
   },
   "outputs": [],
   "source": [
    "from sklearn.svm import SVC"
   ]
  },
  {
   "cell_type": "code",
   "execution_count": 54,
   "metadata": {
    "collapsed": true
   },
   "outputs": [],
   "source": [
    "name='SVC'\n",
    "model = SVC(probability=True)\n",
    "model.fit(X_train,y_train)\n",
    "score=model.score(X_train,y_train)\n",
    "predictions = model.predict(X_test)\n",
    "asc=accuracy_score(y_test, predictions)\n",
    "\n",
    "lr=[name,score,asc]\n",
    "lit.append(lr)"
   ]
  },
  {
   "cell_type": "code",
   "execution_count": 55,
   "metadata": {
    "collapsed": true
   },
   "outputs": [],
   "source": [
    "from sklearn.tree import DecisionTreeClassifier"
   ]
  },
  {
   "cell_type": "code",
   "execution_count": 56,
   "metadata": {
    "collapsed": true
   },
   "outputs": [],
   "source": [
    "name='DecisionTree'\n",
    "model = DecisionTreeClassifier()\n",
    "model.fit(X_train,y_train)\n",
    "score=model.score(X_train,y_train)\n",
    "predictions = model.predict(X_test)\n",
    "asc=accuracy_score(y_test, predictions)\n",
    "\n",
    "lr=[name,score,asc]\n",
    "lit.append(lr)"
   ]
  },
  {
   "cell_type": "code",
   "execution_count": 57,
   "metadata": {
    "collapsed": true
   },
   "outputs": [],
   "source": [
    "from sklearn.ensemble import RandomForestClassifier"
   ]
  },
  {
   "cell_type": "code",
   "execution_count": 58,
   "metadata": {
    "collapsed": true
   },
   "outputs": [],
   "source": [
    "name='RandomForest'\n",
    "model = RandomForestClassifier()\n",
    "model.fit(X_train,y_train)\n",
    "score=model.score(X_train,y_train)\n",
    "predictions = model.predict(X_test)\n",
    "asc=accuracy_score(y_test, predictions)\n",
    "\n",
    "lr=[name,score,asc]\n",
    "lit.append(lr)"
   ]
  },
  {
   "cell_type": "code",
   "execution_count": 59,
   "metadata": {
    "collapsed": true
   },
   "outputs": [],
   "source": [
    "import xgboost"
   ]
  },
  {
   "cell_type": "code",
   "execution_count": 60,
   "metadata": {
    "collapsed": true
   },
   "outputs": [],
   "source": [
    "name='XGBoost'\n",
    "model = xgboost.XGBClassifier()\n",
    "model.fit(X_train,y_train)\n",
    "score=model.score(X_train,y_train)\n",
    "predictions = model.predict(X_test)\n",
    "asc=accuracy_score(y_test, predictions)\n",
    "\n",
    "lr=[name,score,asc]\n",
    "lit.append(lr)"
   ]
  },
  {
   "cell_type": "markdown",
   "metadata": {},
   "source": [
    "## Evaluacion"
   ]
  },
  {
   "cell_type": "code",
   "execution_count": 61,
   "metadata": {},
   "outputs": [
    {
     "data": {
      "text/html": [
       "<div>\n",
       "<style>\n",
       "    .dataframe thead tr:only-child th {\n",
       "        text-align: right;\n",
       "    }\n",
       "\n",
       "    .dataframe thead th {\n",
       "        text-align: left;\n",
       "    }\n",
       "\n",
       "    .dataframe tbody tr th {\n",
       "        vertical-align: top;\n",
       "    }\n",
       "</style>\n",
       "<table border=\"1\" class=\"dataframe\">\n",
       "  <thead>\n",
       "    <tr style=\"text-align: right;\">\n",
       "      <th></th>\n",
       "      <th>name</th>\n",
       "      <th>model_score</th>\n",
       "      <th>accuracy</th>\n",
       "    </tr>\n",
       "  </thead>\n",
       "  <tbody>\n",
       "    <tr>\n",
       "      <th>5</th>\n",
       "      <td>XGBoost</td>\n",
       "      <td>0.690569</td>\n",
       "      <td>0.669952</td>\n",
       "    </tr>\n",
       "    <tr>\n",
       "      <th>2</th>\n",
       "      <td>SVC</td>\n",
       "      <td>0.747935</td>\n",
       "      <td>0.655434</td>\n",
       "    </tr>\n",
       "    <tr>\n",
       "      <th>0</th>\n",
       "      <td>Logistic Regression</td>\n",
       "      <td>0.664239</td>\n",
       "      <td>0.649707</td>\n",
       "    </tr>\n",
       "    <tr>\n",
       "      <th>4</th>\n",
       "      <td>RandomForest</td>\n",
       "      <td>0.986946</td>\n",
       "      <td>0.627464</td>\n",
       "    </tr>\n",
       "    <tr>\n",
       "      <th>3</th>\n",
       "      <td>DecisionTree</td>\n",
       "      <td>1.000000</td>\n",
       "      <td>0.599094</td>\n",
       "    </tr>\n",
       "    <tr>\n",
       "      <th>1</th>\n",
       "      <td>KNeighbors</td>\n",
       "      <td>0.731418</td>\n",
       "      <td>0.590570</td>\n",
       "    </tr>\n",
       "  </tbody>\n",
       "</table>\n",
       "</div>"
      ],
      "text/plain": [
       "                  name  model_score  accuracy\n",
       "5              XGBoost     0.690569  0.669952\n",
       "2                  SVC     0.747935  0.655434\n",
       "0  Logistic Regression     0.664239  0.649707\n",
       "4         RandomForest     0.986946  0.627464\n",
       "3         DecisionTree     1.000000  0.599094\n",
       "1           KNeighbors     0.731418  0.590570"
      ]
     },
     "execution_count": 61,
     "metadata": {},
     "output_type": "execute_result"
    }
   ],
   "source": [
    "df_models=pd.DataFrame(lit, columns=('name','model_score','accuracy')).sort_values(by=\"accuracy\", ascending=False)\n",
    "df_models"
   ]
  },
  {
   "cell_type": "markdown",
   "metadata": {},
   "source": [
    "# Despliegue"
   ]
  },
  {
   "cell_type": "code",
   "execution_count": 66,
   "metadata": {
    "collapsed": true
   },
   "outputs": [],
   "source": [
    "X_test__=np.array(df_test.drop(['ID'],1))\n",
    "model = xgboost.XGBClassifier()\n",
    "model.fit(X_train,y_train)\n",
    "\n",
    "target=model.predict_proba(X_test__)[:,1]\n",
    "df_test['PredictedProb']=target"
   ]
  },
  {
   "cell_type": "code",
   "execution_count": 67,
   "metadata": {
    "collapsed": true
   },
   "outputs": [],
   "source": [
    "ddff=df_test[['ID','PredictedProb']]\n",
    "ddff.to_csv(r'/home/ulises/Documentos/Paribas/final_submision.csv',index=False)"
   ]
  },
  {
   "cell_type": "markdown",
   "metadata": {
    "collapsed": true
   },
   "source": [
    "## Resultado"
   ]
  },
  {
   "cell_type": "code",
   "execution_count": 69,
   "metadata": {},
   "outputs": [
    {
     "data": {
      "image/png": "[encoded data removed]",
      "text/plain": [
       "<IPython.core.display.Image object>"
      ]
     },
     "execution_count": 69,
     "metadata": {},
     "output_type": "execute_result"
    }
   ],
   "source": [
    "from IPython.display import Image\n",
    "Image(filename='/home/ulises/Documentos/Paribas/kaggle_paribas.png') "
   ]
  }
 ],
 "metadata": {
  "kernelspec": {
   "display_name": "Python 2",
   "language": "python",
   "name": "python2"
  },
  "language_info": {
   "codemirror_mode": {
    "name": "ipython",
    "version": 2
   },
   "file_extension": ".py",
   "mimetype": "text/x-python",
   "name": "python",
   "nbconvert_exporter": "python",
   "pygments_lexer": "ipython2",
   "version": "2.7.13"
  }
 },
 "nbformat": 4,
 "nbformat_minor": 2
}
